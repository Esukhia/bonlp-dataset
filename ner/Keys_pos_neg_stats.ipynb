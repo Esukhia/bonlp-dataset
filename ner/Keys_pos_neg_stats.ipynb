{
 "cells": [
  {
   "cell_type": "code",
   "execution_count": 16,
   "metadata": {},
   "outputs": [],
   "source": [
    "# -*- coding: utf-8 -*-\n",
    "from __future__ import unicode_literals\n",
    "\n",
    "import os                                                                                     \n",
    "import glob  \n",
    "from collections import defaultdict\n",
    "\n",
    "from docx import Document\n",
    "import matplotlib.pyplot as plt"
   ]
  },
  {
   "cell_type": "code",
   "execution_count": 17,
   "metadata": {},
   "outputs": [
    {
     "data": {
      "text/plain": [
       "['data/export/001_འདུལ་བ།_ཀ.docx', 'data/export/002_འདུལ་བ།_ཁ.docx']"
      ]
     },
     "execution_count": 17,
     "metadata": {},
     "output_type": "execute_result"
    }
   ],
   "source": [
    "path = 'data/export/'\n",
    "fns = [fn for fn in sorted(glob.glob(os.path.join(path, \"*\"))) if '_' in fn]\n",
    "fns"
   ]
  },
  {
   "cell_type": "code",
   "execution_count": 42,
   "metadata": {},
   "outputs": [],
   "source": [
    "def neg_examples_pages(fn):\n",
    "    neg_fn = '{}.docx'.format(os.path.basename(fn).split('_')[0])\n",
    "    neg_path = os.path.join(os.path.dirname(fn), neg_fn)\n",
    "    with open(neg_path, 'rb') as f:\n",
    "        doc = Document(f)\n",
    "    \n",
    "    pages = []\n",
    "    for para in doc.paragraphs:\n",
    "        page = para.text\n",
    "        if page:\n",
    "            pages.append(int(page))\n",
    "    return pages\n",
    "\n",
    "def find_stats(fn, neg_stats, pos_stats):                                                                           \n",
    "    with open(fn, 'rb') as f:                                                                 \n",
    "        doc = Document(f)\n",
    "    \n",
    "    pages = neg_examples_pages(fn)\n",
    "    \n",
    "    doc.tables[6].rows[0].cells[1].text                                                \n",
    "    for i, table in enumerate(doc.tables):\n",
    "        key = table.rows[2].cells[1].text\n",
    "        type = table.rows[1].cells[1].text\n",
    "        key += ' / ' + type \n",
    "        if i+1 <= max(pages):\n",
    "            if i+1 in pages:\n",
    "    #             text = table.rows[0].cells[1].text\n",
    "    #             \n",
    "                neg_stats[key] += 1\n",
    "            else:\n",
    "                pos_stats[key] += 1"
   ]
  },
  {
   "cell_type": "code",
   "execution_count": 43,
   "metadata": {},
   "outputs": [],
   "source": [
    "def stats_to_csv(stats):                                                                      \n",
    "    pass"
   ]
  },
  {
   "cell_type": "code",
   "execution_count": 44,
   "metadata": {},
   "outputs": [],
   "source": [
    "neg_stats = defaultdict(int)\n",
    "pos_stats = defaultdict(int)\n",
    "for fn in fns:\n",
    "    find_stats(fn, neg_stats, pos_stats)"
   ]
  },
  {
   "cell_type": "code",
   "execution_count": 45,
   "metadata": {},
   "outputs": [
    {
     "data": {
      "image/png": "[encoded data removed]",
      "text/plain": [
       "<Figure size 1080x720 with 1 Axes>"
      ]
     },
     "metadata": {
      "needs_background": "light"
     },
     "output_type": "display_data"
    }
   ],
   "source": [
    "keys, counts = zip(*neg_stats.items())\n",
    "\n",
    "plt.figure(figsize=(15, 10))\n",
    "index = list(range(len(keys)))\n",
    "plt.bar(index, counts)\n",
    "plt.xlabel('Keys', fontsize=10)\n",
    "plt.ylabel('No Negatives', fontsize=10)\n",
    "plt.xticks(index, keys, fontsize=10, rotation=30)\n",
    "plt.title('')\n",
    "plt.show()"
   ]
  },
  {
   "cell_type": "code",
   "execution_count": 46,
   "metadata": {},
   "outputs": [
    {
     "data": {
      "text/plain": [
       "defaultdict(int,\n",
       "            {'དེ་ལྟ་བུའི་ / དབྱེ་གཞི་དབྱེ་བ།': 29,\n",
       "             '་ཡོད་དེ། / དབྱེ་གཞི་དབྱེ་བ།': 44,\n",
       "             '་འདི་ལྟ་སྟེ། / དབྱེ་གཞི་དབྱེ་བ།': 109,\n",
       "             'གང་ཡང་རུང་བ་ / དབྱེ་གཞི་དབྱེ་བ།': 11,\n",
       "             'ཅེ་ན། / དབྱེ་གཞི་དབྱེ་བ།': 4,\n",
       "             '་གང་ཞེ་ན། / དབྱེ་གཞི་དབྱེ་བ།': 14,\n",
       "             'གང་སྟེ། / དབྱེ་གཞི་དབྱེ་བ།': 1,\n",
       "             'འདི་ལ། / དབྱེ་གཞི་དབྱེ་བ།': 1,\n",
       "             'དེ་དག་ལས་ / དབྱེ་གཞི་དབྱེ་བ།': 1})"
      ]
     },
     "execution_count": 46,
     "metadata": {},
     "output_type": "execute_result"
    }
   ],
   "source": [
    "neg_stats"
   ]
  },
  {
   "cell_type": "code",
   "execution_count": 47,
   "metadata": {},
   "outputs": [
    {
     "data": {
      "text/plain": [
       "defaultdict(int,\n",
       "            {'་འདི་ལྟ་སྟེ། / དབྱེ་གཞི་དབྱེ་བ།': 48,\n",
       "             '་གང་ཞེ་ན། / དབྱེ་གཞི་དབྱེ་བ།': 40,\n",
       "             '་ཡོད་དེ། / དབྱེ་གཞི་དབྱེ་བ།': 9,\n",
       "             'འདི་དག་སྟེ། / དབྱེ་གཞི་དབྱེ་བ།': 1})"
      ]
     },
     "execution_count": 47,
     "metadata": {},
     "output_type": "execute_result"
    }
   ],
   "source": [
    "pos_stats"
   ]
  },
  {
   "cell_type": "code",
   "execution_count": null,
   "metadata": {},
   "outputs": [],
   "source": []
  }
 ],
 "metadata": {
  "kernelspec": {
   "display_name": "Python 3",
   "language": "python",
   "name": "python3"
  },
  "language_info": {
   "codemirror_mode": {
    "name": "ipython",
    "version": 3
   },
   "file_extension": ".py",
   "mimetype": "text/x-python",
   "name": "python",
   "nbconvert_exporter": "python",
   "pygments_lexer": "ipython3",
   "version": "3.6.7"
  }
 },
 "nbformat": 4,
 "nbformat_minor": 2
}
